{
 "cells": [
  {
   "cell_type": "markdown",
   "metadata": {},
   "source": [
    "# PROCEDURE TABLE\n",
    "\n",
    "TODO: Create a full list of procedure_concept_ids for IDEA4RC"
   ]
  },
  {
   "cell_type": "code",
   "execution_count": 53,
   "metadata": {},
   "outputs": [],
   "source": [
    "import psycopg2\n",
    "import pandas as pd\n",
    "import random\n",
    "from datetime import datetime, timedelta"
   ]
  },
  {
   "cell_type": "code",
   "execution_count": 54,
   "metadata": {},
   "outputs": [],
   "source": [
    "dbname = \"idea4rc\"\n",
    "user = \"postgres\"\n",
    "password = \"password\"\n",
    "host = \"localhost\"\n",
    "port = \"5432\"\n",
    "\n",
    "conn = psycopg2.connect(\n",
    "    dbname=dbname,\n",
    "    user=user,\n",
    "    password=password,\n",
    "    host=host,\n",
    "    port=port\n",
    ")\n",
    "\n",
    "cur = conn.cursor()"
   ]
  },
  {
   "cell_type": "code",
   "execution_count": 55,
   "metadata": {},
   "outputs": [],
   "source": [
    "def delete_table_data(table_name):\n",
    "    try:\n",
    "        # Connect to your postgres DB\n",
    "        conn = psycopg2.connect(\n",
    "            dbname=dbname,\n",
    "            user=user,\n",
    "            password=password,\n",
    "            host=host,\n",
    "            port=port\n",
    "        )\n",
    "        \n",
    "        # Open a cursor to perform database operations\n",
    "        cur = conn.cursor()\n",
    "        \n",
    "        # Execute a command: this deletes all data in the specified table\n",
    "        cur.execute(f\"DELETE FROM {table_name};\")\n",
    "        \n",
    "        # Commit the changes\n",
    "        conn.commit()\n",
    "        \n",
    "        # Close communication with the database\n",
    "        cur.close()\n",
    "        conn.close()\n",
    "        \n",
    "        print(f\"Data from table {table_name} has been deleted.\")\n",
    "        \n",
    "    except Exception as e:\n",
    "        print(f\"An error occurred: {e}\")"
   ]
  },
  {
   "cell_type": "markdown",
   "metadata": {},
   "source": [
    "### Generate data"
   ]
  },
  {
   "cell_type": "code",
   "execution_count": 56,
   "metadata": {},
   "outputs": [],
   "source": [
    "procedure_concept_ids = [4301351, 4315400, 4217482, 4181193]"
   ]
  },
  {
   "cell_type": "code",
   "execution_count": 57,
   "metadata": {},
   "outputs": [],
   "source": [
    "def generate_fake_data(num_procedures):\n",
    "    \n",
    "    cur.execute(\"SELECT person_id FROM omopcdm3.person\")\n",
    "    patient_ids = [row[0] for row in cur.fetchall()]\n",
    "    \n",
    "    procedures = []\n",
    "\n",
    "    for procedure_id in range(1, num_procedures + 1):\n",
    "        procedure = {\n",
    "            'person_id': random.choice(patient_ids),\n",
    "            'procedure_occurrence_id': procedure_id,\n",
    "            'procedure_concept_id': random.choice(procedure_concept_ids),  # Example race concept IDs\n",
    "            'procedure_date': (datetime.now() - timedelta(days=random.randint(0, 3650))).strftime('%Y-%m-%d'),  # Random date in the last 10 years\n",
    "            'procedure_type_concept_id': 32879  # Example ethnicity concept IDs\n",
    "        }\n",
    "        procedures.append(procedure)\n",
    "\n",
    "    return pd.DataFrame(procedures)"
   ]
  },
  {
   "cell_type": "code",
   "execution_count": 58,
   "metadata": {},
   "outputs": [
    {
     "data": {
      "text/html": [
       "<div>\n",
       "<style scoped>\n",
       "    .dataframe tbody tr th:only-of-type {\n",
       "        vertical-align: middle;\n",
       "    }\n",
       "\n",
       "    .dataframe tbody tr th {\n",
       "        vertical-align: top;\n",
       "    }\n",
       "\n",
       "    .dataframe thead th {\n",
       "        text-align: right;\n",
       "    }\n",
       "</style>\n",
       "<table border=\"1\" class=\"dataframe\">\n",
       "  <thead>\n",
       "    <tr style=\"text-align: right;\">\n",
       "      <th></th>\n",
       "      <th>person_id</th>\n",
       "      <th>procedure_occurrence_id</th>\n",
       "      <th>procedure_concept_id</th>\n",
       "      <th>procedure_date</th>\n",
       "      <th>procedure_type_concept_id</th>\n",
       "    </tr>\n",
       "  </thead>\n",
       "  <tbody>\n",
       "    <tr>\n",
       "      <th>0</th>\n",
       "      <td>44</td>\n",
       "      <td>1</td>\n",
       "      <td>4217482</td>\n",
       "      <td>2019-08-12</td>\n",
       "      <td>32879</td>\n",
       "    </tr>\n",
       "    <tr>\n",
       "      <th>1</th>\n",
       "      <td>41</td>\n",
       "      <td>2</td>\n",
       "      <td>4301351</td>\n",
       "      <td>2022-12-16</td>\n",
       "      <td>32879</td>\n",
       "    </tr>\n",
       "    <tr>\n",
       "      <th>2</th>\n",
       "      <td>89</td>\n",
       "      <td>3</td>\n",
       "      <td>4315400</td>\n",
       "      <td>2022-04-02</td>\n",
       "      <td>32879</td>\n",
       "    </tr>\n",
       "    <tr>\n",
       "      <th>3</th>\n",
       "      <td>64</td>\n",
       "      <td>4</td>\n",
       "      <td>4181193</td>\n",
       "      <td>2021-08-18</td>\n",
       "      <td>32879</td>\n",
       "    </tr>\n",
       "    <tr>\n",
       "      <th>4</th>\n",
       "      <td>79</td>\n",
       "      <td>5</td>\n",
       "      <td>4181193</td>\n",
       "      <td>2025-03-11</td>\n",
       "      <td>32879</td>\n",
       "    </tr>\n",
       "  </tbody>\n",
       "</table>\n",
       "</div>"
      ],
      "text/plain": [
       "   person_id  procedure_occurrence_id  procedure_concept_id procedure_date  \\\n",
       "0         44                        1               4217482     2019-08-12   \n",
       "1         41                        2               4301351     2022-12-16   \n",
       "2         89                        3               4315400     2022-04-02   \n",
       "3         64                        4               4181193     2021-08-18   \n",
       "4         79                        5               4181193     2025-03-11   \n",
       "\n",
       "   procedure_type_concept_id  \n",
       "0                      32879  \n",
       "1                      32879  \n",
       "2                      32879  \n",
       "3                      32879  \n",
       "4                      32879  "
      ]
     },
     "execution_count": 58,
     "metadata": {},
     "output_type": "execute_result"
    }
   ],
   "source": [
    "# Generate data\n",
    "num_procedures = 100\n",
    "df_fake_data = generate_fake_data(num_procedures)\n",
    "df = df_fake_data\n",
    "df.head()"
   ]
  },
  {
   "cell_type": "code",
   "execution_count": 59,
   "metadata": {},
   "outputs": [
    {
     "name": "stdout",
     "output_type": "stream",
     "text": [
      "Data from table omopcdm3.procedure_occurrence has been deleted.\n"
     ]
    }
   ],
   "source": [
    "delete_table_data('omopcdm3.procedure_occurrence')\n",
    "\n",
    "sql = \"\"\"\n",
    "    INSERT INTO omopcdm3.procedure_occurrence (person_id, procedure_occurrence_id, procedure_concept_id, procedure_date, procedure_type_concept_id)\n",
    "    VALUES (%s, %s, %s, %s, %s)\n",
    "\"\"\"\n",
    "\n",
    "cur.executemany(sql, zip(\n",
    "    df.person_id, \n",
    "    df.procedure_occurrence_id, \n",
    "    df.procedure_concept_id, \n",
    "    df.procedure_date, \n",
    "    df.procedure_type_concept_id\n",
    "    ))\n",
    "\n",
    "conn.commit()"
   ]
  },
  {
   "cell_type": "code",
   "execution_count": null,
   "metadata": {},
   "outputs": [],
   "source": []
  },
  {
   "cell_type": "code",
   "execution_count": null,
   "metadata": {},
   "outputs": [],
   "source": []
  }
 ],
 "metadata": {
  "kernelspec": {
   "display_name": "idea4rc",
   "language": "python",
   "name": "python3"
  },
  "language_info": {
   "codemirror_mode": {
    "name": "ipython",
    "version": 3
   },
   "file_extension": ".py",
   "mimetype": "text/x-python",
   "name": "python",
   "nbconvert_exporter": "python",
   "pygments_lexer": "ipython3",
   "version": "3.10.16"
  }
 },
 "nbformat": 4,
 "nbformat_minor": 2
}
