{
 "cells": [
  {
   "cell_type": "markdown",
   "metadata": {},
   "source": [
    "# PROCEDURE TABLE\n",
    "\n",
    "TODO: Create a full list of procedure_concept_ids for IDEA4RC"
   ]
  },
  {
   "cell_type": "code",
   "execution_count": 99,
   "metadata": {},
   "outputs": [],
   "source": [
    "import psycopg2\n",
    "import pandas as pd\n",
    "import random\n",
    "from datetime import datetime, timedelta"
   ]
  },
  {
   "cell_type": "code",
   "execution_count": 100,
   "metadata": {},
   "outputs": [],
   "source": [
    "dbname = \"idea4rc\"\n",
    "user = \"postgres\"\n",
    "password = \"password\"\n",
    "host = \"localhost\"\n",
    "port = \"5432\"\n",
    "\n",
    "conn = psycopg2.connect(\n",
    "    dbname=dbname,\n",
    "    user=user,\n",
    "    password=password,\n",
    "    host=host,\n",
    "    port=port\n",
    ")\n",
    "\n",
    "cur = conn.cursor()"
   ]
  },
  {
   "cell_type": "code",
   "execution_count": 101,
   "metadata": {},
   "outputs": [],
   "source": [
    "def delete_table_data(table_name):\n",
    "    try:\n",
    "        # Connect to your postgres DB\n",
    "        conn = psycopg2.connect(\n",
    "            dbname=dbname,\n",
    "            user=user,\n",
    "            password=password,\n",
    "            host=host,\n",
    "            port=port\n",
    "        )\n",
    "        \n",
    "        # Open a cursor to perform database operations\n",
    "        cur = conn.cursor()\n",
    "        \n",
    "        # Execute a command: this deletes all data in the specified table\n",
    "        cur.execute(f\"DELETE FROM {table_name};\")\n",
    "        \n",
    "        # Commit the changes\n",
    "        conn.commit()\n",
    "        \n",
    "        # Close communication with the database\n",
    "        cur.close()\n",
    "        conn.close()\n",
    "        \n",
    "        print(f\"Data from table {table_name} has been deleted.\")\n",
    "        \n",
    "    except Exception as e:\n",
    "        print(f\"An error occurred: {e}\")"
   ]
  },
  {
   "cell_type": "markdown",
   "metadata": {},
   "source": [
    "### Generate data"
   ]
  },
  {
   "cell_type": "code",
   "execution_count": 102,
   "metadata": {},
   "outputs": [],
   "source": [
    "def generate_fake_patients(num_patients):\n",
    "    patients = []\n",
    "\n",
    "    for person_id in range(1, num_patients + 1):\n",
    "        patient = {\n",
    "            'person_id': person_id,\n",
    "            'gender_concept_id': random.choice([8507, 8532]),  # 8507: Male, 8532: Female\n",
    "            'race_concept_id': random.choice([0]),  # Example race concept IDs\n",
    "            'year_of_birth': random.randint(1920, 2020),\n",
    "            'ethnicity_concept_id': random.choice([38003563, 38003564])  # Example ethnicity concept IDs\n",
    "        }\n",
    "        patients.append(patient)\n",
    "\n",
    "    return pd.DataFrame(patients)"
   ]
  },
  {
   "cell_type": "code",
   "execution_count": 103,
   "metadata": {},
   "outputs": [
    {
     "data": {
      "text/html": [
       "<div>\n",
       "<style scoped>\n",
       "    .dataframe tbody tr th:only-of-type {\n",
       "        vertical-align: middle;\n",
       "    }\n",
       "\n",
       "    .dataframe tbody tr th {\n",
       "        vertical-align: top;\n",
       "    }\n",
       "\n",
       "    .dataframe thead th {\n",
       "        text-align: right;\n",
       "    }\n",
       "</style>\n",
       "<table border=\"1\" class=\"dataframe\">\n",
       "  <thead>\n",
       "    <tr style=\"text-align: right;\">\n",
       "      <th></th>\n",
       "      <th>person_id</th>\n",
       "      <th>gender_concept_id</th>\n",
       "      <th>race_concept_id</th>\n",
       "      <th>year_of_birth</th>\n",
       "      <th>ethnicity_concept_id</th>\n",
       "    </tr>\n",
       "  </thead>\n",
       "  <tbody>\n",
       "    <tr>\n",
       "      <th>0</th>\n",
       "      <td>1</td>\n",
       "      <td>8507</td>\n",
       "      <td>0</td>\n",
       "      <td>1968</td>\n",
       "      <td>38003563</td>\n",
       "    </tr>\n",
       "    <tr>\n",
       "      <th>1</th>\n",
       "      <td>2</td>\n",
       "      <td>8532</td>\n",
       "      <td>0</td>\n",
       "      <td>1969</td>\n",
       "      <td>38003563</td>\n",
       "    </tr>\n",
       "    <tr>\n",
       "      <th>2</th>\n",
       "      <td>3</td>\n",
       "      <td>8532</td>\n",
       "      <td>0</td>\n",
       "      <td>1998</td>\n",
       "      <td>38003564</td>\n",
       "    </tr>\n",
       "    <tr>\n",
       "      <th>3</th>\n",
       "      <td>4</td>\n",
       "      <td>8507</td>\n",
       "      <td>0</td>\n",
       "      <td>1950</td>\n",
       "      <td>38003564</td>\n",
       "    </tr>\n",
       "    <tr>\n",
       "      <th>4</th>\n",
       "      <td>5</td>\n",
       "      <td>8507</td>\n",
       "      <td>0</td>\n",
       "      <td>1965</td>\n",
       "      <td>38003563</td>\n",
       "    </tr>\n",
       "  </tbody>\n",
       "</table>\n",
       "</div>"
      ],
      "text/plain": [
       "   person_id  gender_concept_id  race_concept_id  year_of_birth  \\\n",
       "0          1               8507                0           1968   \n",
       "1          2               8532                0           1969   \n",
       "2          3               8532                0           1998   \n",
       "3          4               8507                0           1950   \n",
       "4          5               8507                0           1965   \n",
       "\n",
       "   ethnicity_concept_id  \n",
       "0              38003563  \n",
       "1              38003563  \n",
       "2              38003564  \n",
       "3              38003564  \n",
       "4              38003563  "
      ]
     },
     "execution_count": 103,
     "metadata": {},
     "output_type": "execute_result"
    }
   ],
   "source": [
    "# Generate data\n",
    "num_patients = 100\n",
    "df_fake_patients = generate_fake_patients(num_patients)\n",
    "df = df_fake_patients\n",
    "df.head()"
   ]
  },
  {
   "cell_type": "code",
   "execution_count": 104,
   "metadata": {},
   "outputs": [],
   "source": [
    "# df = pd.read_csv(r\"./data/Patient_IDEA4RC.csv\", delimiter=';')\n",
    "# df.head(5)"
   ]
  },
  {
   "cell_type": "code",
   "execution_count": 105,
   "metadata": {},
   "outputs": [
    {
     "name": "stdout",
     "output_type": "stream",
     "text": [
      "Data from table omopcdm3.person has been deleted.\n"
     ]
    }
   ],
   "source": [
    "delete_table_data('omopcdm3.person')\n",
    "\n",
    "sql = \"\"\"\n",
    "    INSERT INTO omopcdm3.person (person_id, gender_concept_id, race_concept_id, year_of_birth, ethnicity_concept_id)\n",
    "    VALUES (%s, %s, %s, %s, %s)\n",
    "\"\"\"\n",
    "\n",
    "cur.executemany(sql, zip(\n",
    "    df.person_id, \n",
    "    df.gender_concept_id, \n",
    "    df.race_concept_id, \n",
    "    df.year_of_birth, \n",
    "    df.ethnicity_concept_id\n",
    "    ))\n",
    "\n",
    "conn.commit()"
   ]
  },
  {
   "cell_type": "code",
   "execution_count": null,
   "metadata": {},
   "outputs": [],
   "source": []
  }
 ],
 "metadata": {
  "kernelspec": {
   "display_name": "idea4rc",
   "language": "python",
   "name": "python3"
  },
  "language_info": {
   "codemirror_mode": {
    "name": "ipython",
    "version": 3
   },
   "file_extension": ".py",
   "mimetype": "text/x-python",
   "name": "python",
   "nbconvert_exporter": "python",
   "pygments_lexer": "ipython3",
   "version": "3.10.16"
  }
 },
 "nbformat": 4,
 "nbformat_minor": 2
}
